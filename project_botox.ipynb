{
 "cells": [
  {
   "cell_type": "code",
   "execution_count": 1,
   "id": "b90c1c82",
   "metadata": {},
   "outputs": [],
   "source": [
    "import pandas as pd\n",
    "import numpy as np\n",
    "import warnings\n",
    "warnings.filterwarnings('ignore')\n",
    "\n",
    "from selenium import webdriver\n",
    "from selenium.webdriver.chrome.service import Service\n",
    "from selenium.webdriver.common.by import By\n",
    "import time\n",
    "import csv"
   ]
  },
  {
   "cell_type": "code",
   "execution_count": 2,
   "id": "07e4380f",
   "metadata": {},
   "outputs": [],
   "source": [
    "driver=webdriver.Chrome()"
   ]
  },
  {
   "cell_type": "code",
   "execution_count": 3,
   "id": "69c71c16",
   "metadata": {},
   "outputs": [],
   "source": [
    "url='https://thebeautybarn.com/'\n",
    "driver.get(url)"
   ]
  },
  {
   "cell_type": "code",
   "execution_count": 4,
   "id": "470eec93",
   "metadata": {},
   "outputs": [],
   "source": [
    "bot=driver.find_element(By.CLASS_NAME,'text-columns-with-images__button')\n",
    "bot.click()"
   ]
  },
  {
   "cell_type": "code",
   "execution_count": 5,
   "id": "87f94111",
   "metadata": {},
   "outputs": [],
   "source": [
    "bot_text=driver.find_element(By.XPATH,'//*[@id=\"shopify-section-template--20738301427990__b7f8e777-16d1-4a00-8f07-6cba00bec7c9\"]/section/div/div[2]/dl/dt[1]/button')\n",
    "bot_text.click()"
   ]
  },
  {
   "cell_type": "code",
   "execution_count": 6,
   "id": "88ca6ca6",
   "metadata": {},
   "outputs": [],
   "source": [
    "what=driver.find_elements(By.XPATH,'//*[@id=\"panel-01\"]/p')"
   ]
  },
  {
   "cell_type": "code",
   "execution_count": 7,
   "id": "deba862c",
   "metadata": {},
   "outputs": [],
   "source": [
    "total=[]\n",
    "for i in what:\n",
    "    total.append(i.text)"
   ]
  },
  {
   "cell_type": "code",
   "execution_count": 8,
   "id": "fd14ab00",
   "metadata": {},
   "outputs": [
    {
     "data": {
      "text/plain": [
       "['BOTOX® is the brand name for a purified protein that helps relax muscles that cause wrinkles and soften existing wrinkles to provide a more refreshed look. BOTOX® is fundamentally a bacteria (clostridium botulinum) that was discovered 100’s of years ago and has recently been refined into one of the most widely used substances for medical purposes in the world. Today this protein is used for medical purposes ranging from overactive bladder to migraines and a host of other medical conditions.',\n",
       " '',\n",
       " '',\n",
       " '',\n",
       " '',\n",
       " '',\n",
       " '',\n",
       " '',\n",
       " '',\n",
       " '',\n",
       " '',\n",
       " '',\n",
       " '',\n",
       " '',\n",
       " '',\n",
       " '',\n",
       " '',\n",
       " '']"
      ]
     },
     "execution_count": 8,
     "metadata": {},
     "output_type": "execute_result"
    }
   ],
   "source": [
    "total"
   ]
  },
  {
   "cell_type": "code",
   "execution_count": 9,
   "id": "47728ff4",
   "metadata": {},
   "outputs": [
    {
     "data": {
      "text/plain": [
       "18"
      ]
     },
     "execution_count": 9,
     "metadata": {},
     "output_type": "execute_result"
    }
   ],
   "source": [
    "len(total)"
   ]
  },
  {
   "cell_type": "code",
   "execution_count": 10,
   "id": "0084b7ee",
   "metadata": {},
   "outputs": [
    {
     "name": "stdout",
     "output_type": "stream",
     "text": [
      "['BOTOX® is the brand name for a purified protein that helps relax muscles that cause wrinkles and soften existing wrinkles to provide a more refreshed look. BOTOX® is fundamentally a bacteria (clostridium botulinum) that was discovered 100’s of years ago and has recently been refined into one of the most widely used substances for medical purposes in the world. Today this protein is used for medical purposes ranging from overactive bladder to migraines and a host of other medical conditions.']\n"
     ]
    }
   ],
   "source": [
    "for i in range(1,18):\n",
    "    if i > 0:\n",
    "        del total[1]\n",
    "    else:\n",
    "        print('complete')\n",
    "\n",
    "print(total)"
   ]
  },
  {
   "cell_type": "code",
   "execution_count": 11,
   "id": "51738389",
   "metadata": {},
   "outputs": [
    {
     "name": "stdout",
     "output_type": "stream",
     "text": [
      "Text data with title has been saved to 'botox.txt'.\n"
     ]
    }
   ],
   "source": [
    "text_file_path = \"botox.txt\"\n",
    "\n",
    "# Title name for the text file\n",
    "title_name = \"What is Botox\\n\"\n",
    "\n",
    "# Open the text file in write mode\n",
    "with open(text_file_path, mode='w') as file:\n",
    "    # Write the title name to the text file\n",
    "    file.write(title_name)\n",
    "\n",
    "    # Write each text item from the list into the text file\n",
    "    for text in total:\n",
    "        file.write(text + \"\\n\")  # Add a newline after each text item\n",
    "\n",
    "print(f\"Text data with title has been saved to '{text_file_path}'.\")"
   ]
  },
  {
   "cell_type": "code",
   "execution_count": null,
   "id": "f065103a",
   "metadata": {},
   "outputs": [],
   "source": []
  }
 ],
 "metadata": {
  "kernelspec": {
   "display_name": "Python 3 (ipykernel)",
   "language": "python",
   "name": "python3"
  },
  "language_info": {
   "codemirror_mode": {
    "name": "ipython",
    "version": 3
   },
   "file_extension": ".py",
   "mimetype": "text/x-python",
   "name": "python",
   "nbconvert_exporter": "python",
   "pygments_lexer": "ipython3",
   "version": "3.10.12"
  }
 },
 "nbformat": 4,
 "nbformat_minor": 5
}
